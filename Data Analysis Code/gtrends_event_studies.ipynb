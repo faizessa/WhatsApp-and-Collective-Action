{
 "cells": [
  {
   "cell_type": "markdown",
   "id": "2cfc85eb",
   "metadata": {},
   "source": [
    "# Faiz Essa\n",
    "## Google Trends Event Studies\n",
    "### March 9, 2023"
   ]
  },
  {
   "cell_type": "code",
   "execution_count": 42,
   "id": "61e32086",
   "metadata": {},
   "outputs": [],
   "source": [
    "# Importing packages\n",
    "import pandas as pd\n",
    "import statsmodels.formula.api as sm\n",
    "import os\n",
    "import math"
   ]
  },
  {
   "cell_type": "code",
   "execution_count": 68,
   "id": "924b2a9c",
   "metadata": {},
   "outputs": [],
   "source": [
    "# Set working directory\n",
    "os.chdir('/Users/faizessa/Library/CloudStorage/Dropbox/Mac/Documents/GitHub/WhatsApp-and-Collective-Action')"
   ]
  },
  {
   "cell_type": "markdown",
   "id": "4e13ed41",
   "metadata": {},
   "source": [
    "This file displays the results of event study designs that detail the effects of WhatsApp policy changes on protests. The cross-sectional variable of interest is from Google Trends. The data is formatted as a panel detailing the number of protests each week from 2015 to 2021 in each Indian State. We also have data on WhatsApp interest from google trends for each indian state. The data looks as follows"
   ]
  },
  {
   "cell_type": "code",
   "execution_count": 74,
   "id": "123d4bc9",
   "metadata": {},
   "outputs": [
    {
     "name": "stdout",
     "output_type": "stream",
     "text": [
      "      GAULADM1Code  WhatsAppInterest  year  week  time  protest_count\n",
      "0             IN25               100  2015     1     1              0\n",
      "1             IN25               100  2015     2     2              0\n",
      "2             IN25               100  2015     3     3              0\n",
      "3             IN25               100  2015     4     4              5\n",
      "4             IN25               100  2015     5     5              0\n",
      "...            ...               ...   ...   ...   ...            ...\n",
      "13170         IN30                43  2022    50   421              0\n",
      "13171         IN30                43  2022    51   422              1\n",
      "13172         IN30                43  2022    52   423              0\n",
      "13173         IN30                43  2022    53   424              0\n",
      "13174         IN30                43  2023     1   425              0\n",
      "\n",
      "[13175 rows x 6 columns]\n"
     ]
    }
   ],
   "source": [
    "# Importing data\n",
    "protest_panel = pd.read_csv(\"Data/GDELT/gtrends_es_panel.csv\")\n",
    "print(protest_panel)"
   ]
  },
  {
   "cell_type": "markdown",
   "id": "2291983e",
   "metadata": {},
   "source": [
    "I'll estimate the following OLS regression for each policy change:\n",
    "\n",
    "$\\mathrm{Protests}_{st} = \\alpha + \\beta_{-9} (\\mathrm{PreEventWindow}_t \\times \\mathrm{WhatsAppInterest}_{s}) + \\sum_{i=\\in [-8, 8]\\setminus \\{-1\\}} \\beta_i (i\\_\\mathrm{WeeksToEvent}_{t} \\times \\mathrm{WhatsAppInterest}_{s}) + \\beta_{9} (\\mathrm{PostEventWindow}_t \\times \\mathrm{WhatsAppInterest}_{s}) + \\gamma_{s} + \\eta_{t} + \\varepsilon_{st}$\n",
    "\n"
   ]
  },
  {
   "cell_type": "code",
   "execution_count": 75,
   "id": "29f6e0ce",
   "metadata": {},
   "outputs": [
    {
     "name": "stdout",
     "output_type": "stream",
     "text": [
      "      GAULADM1Code  WhatsAppInterest  year  week  time  protest_count  \\\n",
      "0             IN25               100  2015     1     1              0   \n",
      "1             IN25               100  2015     2     2              0   \n",
      "2             IN25               100  2015     3     3              0   \n",
      "3             IN25               100  2015     4     4              5   \n",
      "4             IN25               100  2015     5     5              0   \n",
      "...            ...               ...   ...   ...   ...            ...   \n",
      "13170         IN30                43  2022    50   421              0   \n",
      "13171         IN30                43  2022    51   422              1   \n",
      "13172         IN30                43  2022    52   423              0   \n",
      "13173         IN30                43  2022    53   424              0   \n",
      "13174         IN30                43  2023     1   425              0   \n",
      "\n",
      "       weeks_to_event  PreEventWindow  PostEventWindow  weeks_to_event_-8.0  \\\n",
      "0                -187             1.0              0.0                    0   \n",
      "1                -186             1.0              0.0                    0   \n",
      "2                -185             1.0              0.0                    0   \n",
      "3                -184             1.0              0.0                    0   \n",
      "4                -183             1.0              0.0                    0   \n",
      "...               ...             ...              ...                  ...   \n",
      "13170             233             0.0              1.0                    0   \n",
      "13171             234             0.0              1.0                    0   \n",
      "13172             235             0.0              1.0                    0   \n",
      "13173             236             0.0              1.0                    0   \n",
      "13174             237             0.0              1.0                    0   \n",
      "\n",
      "       ...  weeks_to_event_-1.0  weeks_to_event_0.0  weeks_to_event_1.0  \\\n",
      "0      ...                    0                   0                   0   \n",
      "1      ...                    0                   0                   0   \n",
      "2      ...                    0                   0                   0   \n",
      "3      ...                    0                   0                   0   \n",
      "4      ...                    0                   0                   0   \n",
      "...    ...                  ...                 ...                 ...   \n",
      "13170  ...                    0                   0                   0   \n",
      "13171  ...                    0                   0                   0   \n",
      "13172  ...                    0                   0                   0   \n",
      "13173  ...                    0                   0                   0   \n",
      "13174  ...                    0                   0                   0   \n",
      "\n",
      "       weeks_to_event_2.0  weeks_to_event_3.0  weeks_to_event_4.0  \\\n",
      "0                       0                   0                   0   \n",
      "1                       0                   0                   0   \n",
      "2                       0                   0                   0   \n",
      "3                       0                   0                   0   \n",
      "4                       0                   0                   0   \n",
      "...                   ...                 ...                 ...   \n",
      "13170                   0                   0                   0   \n",
      "13171                   0                   0                   0   \n",
      "13172                   0                   0                   0   \n",
      "13173                   0                   0                   0   \n",
      "13174                   0                   0                   0   \n",
      "\n",
      "       weeks_to_event_5.0  weeks_to_event_6.0  weeks_to_event_7.0  \\\n",
      "0                       0                   0                   0   \n",
      "1                       0                   0                   0   \n",
      "2                       0                   0                   0   \n",
      "3                       0                   0                   0   \n",
      "4                       0                   0                   0   \n",
      "...                   ...                 ...                 ...   \n",
      "13170                   0                   0                   0   \n",
      "13171                   0                   0                   0   \n",
      "13172                   0                   0                   0   \n",
      "13173                   0                   0                   0   \n",
      "13174                   0                   0                   0   \n",
      "\n",
      "       weeks_to_event_8.0  \n",
      "0                       0  \n",
      "1                       0  \n",
      "2                       0  \n",
      "3                       0  \n",
      "4                       0  \n",
      "...                   ...  \n",
      "13170                   0  \n",
      "13171                   0  \n",
      "13172                   0  \n",
      "13173                   0  \n",
      "13174                   0  \n",
      "\n",
      "[13175 rows x 26 columns]\n"
     ]
    }
   ],
   "source": [
    "# First, we define a function to create our dummy variables for each event\n",
    "\n",
    "def GenerateWindow(df, event_time):\n",
    "    ''' Inputs a time and creates dummy variables for days in event window,\n",
    "    as well as pre-event-window and post-event-window dummys.\n",
    "    '''\n",
    "    # generate a variable that details time to event\n",
    "    df[\"weeks_to_event\"] = df[\"time\"] - event_time \n",
    "    \n",
    "    # creating PreEventWindow and PostEventWindow variables\n",
    "    df.loc[df[\"weeks_to_event\"] < -8, \"PreEventWindow\"] = 1\n",
    "    df.loc[df[\"weeks_to_event\"] >= -8, \"PreEventWindow\"] = 0\n",
    "    df.loc[df[\"weeks_to_event\"] > 8, \"PostEventWindow\"] = 1\n",
    "    df.loc[df[\"weeks_to_event\"] <= 8, \"PostEventWindow\"] = 0\n",
    "    \n",
    "    # Creating lags and leads for event window \n",
    "    df.loc[(df[\"weeks_to_event\"] >= -8) & (df[\"weeks_to_event\"] <= 8), \\\n",
    "                      \"window\"] = df[\"weeks_to_event\"] \n",
    "\n",
    "# Testing for the first change on week 188\n",
    "GenerateWindow(protest_panel, 188)\n",
    "\n",
    "# create dummies\n",
    "protest_panel = pd.get_dummies(protest_panel, prefix = \"weeks_to_event\", columns =[\"window\"])\n",
    "print(protest_panel)\n",
    "    \n",
    "\n"
   ]
  },
  {
   "cell_type": "code",
   "execution_count": null,
   "id": "ff7a8d7e",
   "metadata": {},
   "outputs": [],
   "source": []
  }
 ],
 "metadata": {
  "kernelspec": {
   "display_name": "Python 3 (ipykernel)",
   "language": "python",
   "name": "python3"
  },
  "language_info": {
   "codemirror_mode": {
    "name": "ipython",
    "version": 3
   },
   "file_extension": ".py",
   "mimetype": "text/x-python",
   "name": "python",
   "nbconvert_exporter": "python",
   "pygments_lexer": "ipython3",
   "version": "3.9.12"
  }
 },
 "nbformat": 4,
 "nbformat_minor": 5
}
