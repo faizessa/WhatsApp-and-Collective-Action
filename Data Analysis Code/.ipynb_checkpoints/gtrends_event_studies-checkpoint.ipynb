{
 "cells": [
  {
   "cell_type": "markdown",
   "id": "2cfc85eb",
   "metadata": {},
   "source": [
    "# Faiz Essa\n",
    "## Google Trends Event Studies\n",
    "### March 9, 2023"
   ]
  },
  {
   "cell_type": "code",
   "execution_count": 1,
   "id": "61e32086",
   "metadata": {},
   "outputs": [],
   "source": [
    "# Importing packages\n",
    "import pandas as pd\n",
    "import statsmodels.formula.api as sm\n",
    "import os\n",
    "import math"
   ]
  },
  {
   "cell_type": "markdown",
   "id": "a5bd9567",
   "metadata": {},
   "source": [
    "The following function creates lead and lag dummy's for the event studies for different event times:"
   ]
  },
  {
   "cell_type": "code",
   "execution_count": null,
   "id": "b111c200",
   "metadata": {},
   "outputs": [],
   "source": [
    "# Generating Functions\n",
    "def GenerateDummies(df, event_time):\n",
    "    ''' Inputs a data frame and event time and outputs a dataframe with dummy variables for days in event window,\n",
    "    as well as pre-event-window and post-event-window dummys.\n",
    "    '''\n",
    "    # generate a variable that details time to event\n",
    "    df[\"weeks_to_event\"] = df[\"time\"] - event_time \n",
    "    \n",
    "    # creating PreEventWindow and PostEventWindow variables\n",
    "    df.loc[df[\"weeks_to_event\"] < -8, \"PreEventWindow\"] = 1\n",
    "    df.loc[df[\"weeks_to_event\"] >= -8, \"PreEventWindow\"] = 0\n",
    "    df.loc[df[\"weeks_to_event\"] > 8, \"PostEventWindow\"] = 1\n",
    "    df.loc[df[\"weeks_to_event\"] <= 8, \"PostEventWindow\"] = 0\n",
    "    \n",
    "    # Creating lags and leads for event window \n",
    "    df.loc[(df[\"weeks_to_event\"] >= -8) & (df[\"weeks_to_event\"] <= 8), \\\n",
    "                      \"window\"] = df[\"weeks_to_event\"] \n",
    "    \n",
    "    # adding in dummies \n",
    "    df = pd.get_dummies(df, prefix = \"weeks_to_event\", columns =[\"window\"])\n",
    "    \n",
    "    return df"
   ]
  },
  {
   "cell_type": "code",
   "execution_count": 2,
   "id": "924b2a9c",
   "metadata": {},
   "outputs": [],
   "source": [
    "# Set working directory\n",
    "os.chdir('/Users/faizessa/Library/CloudStorage/Dropbox/Mac/Documents/GitHub/WhatsApp-and-Collective-Action')"
   ]
  },
  {
   "cell_type": "markdown",
   "id": "4e13ed41",
   "metadata": {},
   "source": [
    "The raw data is formatted as a panel detailing the number of protests each week from 2015 to 2021 in each Indian State. We also have data on WhatsApp interest from google trends for each indian state."
   ]
  },
  {
   "cell_type": "code",
   "execution_count": 3,
   "id": "123d4bc9",
   "metadata": {},
   "outputs": [
    {
     "name": "stdout",
     "output_type": "stream",
     "text": [
      "      GAULADM1Code  WhatsAppInterest  year  week  time  protest_count\n",
      "0             IN25               100  2015     1     1              0\n",
      "1             IN25               100  2015     2     2              0\n",
      "2             IN25               100  2015     3     3              0\n",
      "3             IN25               100  2015     4     4              5\n",
      "4             IN25               100  2015     5     5              0\n",
      "...            ...               ...   ...   ...   ...            ...\n",
      "13170         IN30                43  2022    50   421              0\n",
      "13171         IN30                43  2022    51   422              1\n",
      "13172         IN30                43  2022    52   423              0\n",
      "13173         IN30                43  2022    53   424              0\n",
      "13174         IN30                43  2023     1   425              0\n",
      "\n",
      "[13175 rows x 6 columns]\n"
     ]
    }
   ],
   "source": [
    "# Importing data\n",
    "protest_panel = pd.read_csv(\"Data/GDELT/gtrends_es_panel.csv\")\n",
    "print(protest_panel)\n",
    "# preview of data: "
   ]
  },
  {
   "cell_type": "code",
   "execution_count": null,
   "id": "9eb67da2",
   "metadata": {},
   "outputs": [],
   "source": [
    "# Create dataframes with dummies for each event time. "
   ]
  },
  {
   "cell_type": "markdown",
   "id": "2291983e",
   "metadata": {},
   "source": [
    "I employ the following OLS regression to study the effects of WhatsApp policy changes:\n",
    "\n",
    "$\\mathrm{Protests}_{st} = \\alpha + \\beta_{-9} (\\mathrm{PreEventWindow}_t \\times \\mathrm{WhatsAppInterest}_{s}) + \\sum_{i \\in [-8, 8]\\setminus \\{-1\\}} \\beta_i (i\\_\\mathrm{WeeksToEvent}_{t} \\times \\mathrm{WhatsAppInterest}_{s}) + \\beta_{9} (\\mathrm{PostEventWindow}_t \\times \\mathrm{WhatsAppInterest}_{s}) + \\gamma_{s} + \\eta_{t} + \\varepsilon_{st}$\n",
    "\n",
    "$s$ indexes state and $t$ indexes year-week groups. \n"
   ]
  },
  {
   "cell_type": "code",
   "execution_count": null,
   "id": "9dd911c2",
   "metadata": {},
   "outputs": [],
   "source": [
    "# Add formula\n",
    "\n",
    "# Execute Regressions"
   ]
  }
 ],
 "metadata": {
  "kernelspec": {
   "display_name": "Python 3 (ipykernel)",
   "language": "python",
   "name": "python3"
  },
  "language_info": {
   "codemirror_mode": {
    "name": "ipython",
    "version": 3
   },
   "file_extension": ".py",
   "mimetype": "text/x-python",
   "name": "python",
   "nbconvert_exporter": "python",
   "pygments_lexer": "ipython3",
   "version": "3.9.12"
  }
 },
 "nbformat": 4,
 "nbformat_minor": 5
}
